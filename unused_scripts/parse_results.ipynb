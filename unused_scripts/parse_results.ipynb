{
 "cells": [
  {
   "cell_type": "code",
   "execution_count": null,
   "metadata": {},
   "outputs": [],
   "source": [
    "import json\n",
    "\n",
    "# file_path_pgd : str = 'output_loss_001_llama2_pgd.json'\n",
    "file_path_pgd : str = './outputs/output_soft_prompts(with_discretization)_llama2.json'\n",
    "# Load the JSON file\n",
    "with open(file_path_pgd, 'r') as file:\n",
    "    data = json.load(file)\n",
    "\n",
    "# Process each JSON object\n",
    "count = 1\n",
    "for item in data[:]:\n",
    "    print(f'\\n\\n{count}',end=' ')\n",
    "    print('_' * 120)\n",
    "    harmful_behaviour = item.get('harmful-behaviour')\n",
    "    suffix_token_ids = item.get('suffix_token_ids')\n",
    "    target = item.get('target')\n",
    "    outputs = item.get('outputs')\n",
    "\n",
    "    # Print extracted information\n",
    "    print(f\"Harmful Behaviour: {harmful_behaviour}\")\n",
    "    # print(f\"Suffix Token IDs: {suffix_token_ids}\")\n",
    "    print(f\"Target: {target}\")\n",
    "    print(\"Outputs:\")\n",
    "    i=1\n",
    "    for output in outputs:\n",
    "        print(f'\\n#{i} \\n{output}')\n",
    "        i+=1\n",
    "    print(\"\\n\" + \"-\"*80 + \"\\n\")\n",
    "    count+=1"
   ]
  },
  {
   "cell_type": "code",
   "execution_count": null,
   "metadata": {},
   "outputs": [],
   "source": [
    "import pandas as pd\n",
    "import matplotlib.pyplot as plt\n",
    "import csv\n",
    "import ast\n",
    "import statistics\n",
    "\n",
    "# Function to compute mean of a list of numbers\n",
    "def compute_mean(numbers_list):\n",
    "    return statistics.median(numbers_list)\n",
    "\n",
    "MAX_COL = 20\n",
    "# Replace 'your_file.csv' with the path to your actual CSV file\n",
    "target_prob_file_path = 'target_prob_rr_25.csv'\n",
    "# List to store the modified rows\n",
    "modified_rows = []\n",
    "# Open the CSV file\n",
    "with open(target_prob_file_path, newline='') as csvfile:\n",
    "    # Create a CSV reader object\n",
    "    csv_reader = csv.reader(csvfile)\n",
    "    \n",
    "    # Read and print each line in the CSV file\n",
    "    # for row in csv_reader:\n",
    "    #     print(row)\n",
    "    # Read and process each row\n",
    "    for row in csv_reader:\n",
    "        modified_row = []\n",
    "        for item in row:\n",
    "            # Parse the string representation of the list\n",
    "            try:\n",
    "                number_list = ast.literal_eval(item)\n",
    "                if isinstance(number_list, list) : # and all(isinstance(i, (int, float)) for i in number_list):\n",
    "                    mean_value = compute_mean(number_list[0])\n",
    "                    modified_row.append(mean_value)\n",
    "                else:\n",
    "                    modified_row.append(item)\n",
    "            except:\n",
    "                modified_row.append(item)\n",
    "        \n",
    "        modified_rows.append(modified_row)\n",
    "\n",
    "# Print the modified rows\n",
    "for modified_row in modified_rows: \n",
    "    print(modified_row)"
   ]
  },
  {
   "cell_type": "code",
   "execution_count": null,
   "metadata": {},
   "outputs": [],
   "source": [
    "df = pd.DataFrame(modified_rows)\n",
    "df = df.iloc[:, :MAX_COL]\n",
    "df.fillna(0, inplace=True)\n",
    "print(df.shape)\n",
    "df_column_medians = df.median()"
   ]
  },
  {
   "cell_type": "code",
   "execution_count": null,
   "metadata": {},
   "outputs": [],
   "source": [
    "# Plot the column-wise mean as a line curve\n",
    "plt.figure(figsize=(8, 6))\n",
    "# plt.plot(ce_loss_column_means, marker='.', linestyle='-', color='b', label='ce_loss')\n",
    "plt.plot(df_column_medians, linestyle='-', color='r', label='target_probs')\n",
    "plt.title('Loss vs Epochs (PGD-Continuous)')\n",
    "plt.xlabel('Epochs')\n",
    "plt.ylabel('Median Loss')\n",
    "plt.grid(True)\n",
    "# plt.xticks(ticks=range(0, max_columns, 10), labels=range(0, max_columns, 10), rotation=60)\n",
    "# Add a legend to differentiate between the two files\n",
    "plt.legend()\n",
    "plt.show()"
   ]
  }
 ],
 "metadata": {
  "kernelspec": {
   "display_name": "llm-embedding-attack_env",
   "language": "python",
   "name": "python3"
  },
  "language_info": {
   "codemirror_mode": {
    "name": "ipython",
    "version": 3
   },
   "file_extension": ".py",
   "mimetype": "text/x-python",
   "name": "python",
   "nbconvert_exporter": "python",
   "pygments_lexer": "ipython3",
   "version": "3.8.18"
  }
 },
 "nbformat": 4,
 "nbformat_minor": 2
}
